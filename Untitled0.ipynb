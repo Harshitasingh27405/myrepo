{
  "nbformat": 4,
  "nbformat_minor": 0,
  "metadata": {
    "colab": {
      "provenance": [],
      "authorship_tag": "ABX9TyMIUJRvCZrtAVG+Dr0neIhS",
      "include_colab_link": true
    },
    "kernelspec": {
      "name": "python3",
      "display_name": "Python 3"
    },
    "language_info": {
      "name": "python"
    }
  },
  "cells": [
    {
      "cell_type": "markdown",
      "metadata": {
        "id": "view-in-github",
        "colab_type": "text"
      },
      "source": [
        "<a href=\"https://colab.research.google.com/github/Harshitasingh27405/myrepo/blob/main/Untitled0.ipynb\" target=\"_parent\"><img src=\"https://colab.research.google.com/assets/colab-badge.svg\" alt=\"Open In Colab\"/></a>"
      ]
    },
    {
      "cell_type": "code",
      "execution_count": 1,
      "metadata": {
        "colab": {
          "base_uri": "https://localhost:8080/"
        },
        "id": "qpmatfF84Z04",
        "outputId": "c2f8e6ce-a546-46dd-a22f-ca1b640d4194"
      },
      "outputs": [
        {
          "output_type": "stream",
          "name": "stdout",
          "text": [
            "hello world\n"
          ]
        }
      ],
      "source": [
        "# prompt: print hello world using rot13\n",
        "\n",
        "def rot13(text):\n",
        "    result = ''\n",
        "    for char in text:\n",
        "        if 'a' <= char <= 'z':\n",
        "            result += chr(((ord(char) - ord('a') + 13) % 26) + ord('a'))\n",
        "        elif 'A' <= char <= 'Z':\n",
        "            result += chr(((ord(char) - ord('A') + 13) % 26) + ord('A'))\n",
        "        else:\n",
        "            result += char\n",
        "    return result\n",
        "\n",
        "print(rot13(\"uryyb jbeyq\"))\n"
      ]
    }
  ]
}